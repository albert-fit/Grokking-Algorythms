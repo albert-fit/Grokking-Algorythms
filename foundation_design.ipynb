{
 "cells": [
  {
   "cell_type": "code",
   "execution_count": 14,
   "metadata": {},
   "outputs": [],
   "source": [
    "# Foundation dimensions\n",
    "lenght_L = 1\n",
    "breath_B = 2.5\n",
    "thickness_D = 1.5\n",
    "reinforced_concrete = 25\n",
    "\n",
    "#where it is in the ground\n",
    "depth_of_foundation = 2.5\n",
    "\n",
    "#soil parameters\n",
    "undrained_shear_strength = 45\n",
    "friction_angle = 25\n",
    "effective_cohesion = 5\n",
    "bulk_unit_weight = 21\n",
    "\n",
    "depth_to_water = 1\n",
    "unit_weight_of_water = 9.81\n",
    "\n",
    "permanent_action = 250\n",
    "variable_action = 110"
   ]
  },
  {
   "cell_type": "code",
   "execution_count": 15,
   "metadata": {},
   "outputs": [],
   "source": [
    "# partial factors (EUROCODE)\n",
    "permanent_actions_unfavorable_DA1_1 = 1.35\n",
    "permanent_actions_unfavorable_DA1_2 = 1\n",
    "\n",
    "permanent_actions_favorable_DA1_1 = 1\n",
    "permanent_actions_favorable_DA1_2 = 1\n",
    "\n",
    "variable_actions_DA1_1 = 1.5\n",
    "variable_actions_DA1_2 = 1.3\n",
    "\n",
    "coeficient_of_shearing_resistance_M1 = 1\n",
    "coeficient_of_shearing_resistance_M2 = 1.25\n",
    "\n",
    "effective_cohesion_M1 = 1\n",
    "effective_cohesion_M2 = 1.25\n",
    "\n",
    "shear_strenght_M1 = 1\n",
    "shear_strenght_M2 = 1.4\n",
    "\n",
    "resistance_R1 = 1"
   ]
  },
  {
   "cell_type": "code",
   "execution_count": 19,
   "metadata": {},
   "outputs": [
    {
     "name": "stdout",
     "output_type": "stream",
     "text": [
      "Self weight footing is 93.75 kN\n"
     ]
    }
   ],
   "source": [
    "self_weight_footing = lenght_L * breath_B * thickness_D * reinforced_concrete \n",
    "print (f'Self weight footing is {self_weight_footing} kN')"
   ]
  },
  {
   "cell_type": "code",
   "execution_count": 21,
   "metadata": {},
   "outputs": [
    {
     "name": "stdout",
     "output_type": "stream",
     "text": [
      "Pore pressure underneath base is: 14.715\n"
     ]
    }
   ],
   "source": [
    "pore_pressure_underneath_base = unit_weight_of_water * (depth_of_foundation - depth_to_water)\n",
    "print(f'Pore pressure underneath base is: {pore_pressure_underneath_base}')"
   ]
  },
  {
   "cell_type": "code",
   "execution_count": null,
   "metadata": {},
   "outputs": [],
   "source": []
  }
 ],
 "metadata": {
  "kernelspec": {
   "display_name": "ARENA_3.0",
   "language": "python",
   "name": "python3"
  },
  "language_info": {
   "codemirror_mode": {
    "name": "ipython",
    "version": 3
   },
   "file_extension": ".py",
   "mimetype": "text/x-python",
   "name": "python",
   "nbconvert_exporter": "python",
   "pygments_lexer": "ipython3",
   "version": "3.12.4"
  }
 },
 "nbformat": 4,
 "nbformat_minor": 2
}
